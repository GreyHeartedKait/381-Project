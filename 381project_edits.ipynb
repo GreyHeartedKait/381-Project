{
 "cells": [
  {
   "cell_type": "markdown",
   "metadata": {},
   "source": [
    "### Social Network Graph\n",
    "The first part of this project is modeling the social network over which we will simulate different events, namely parties, decay of relationships, falling outs, and meeting people.\n",
    "\n",
    "We determined that the components of the graph are\n",
    "* People: Each person is represented by a node\n",
    "* Frendship / connection: Two connected people have an edge between them. The frequency of there being a connected is modeled off of Dunbar's number [(source)](https://www.bbc.com/future/article/20191001-dunbars-number-why-we-can-only-maintain-150-relationships).\n",
    "* Friendship level: The friendship level of these two people are represented as the weight of the edge. The specific friendship level is chosen using Dunbar's number [(source)](https://www.bbc.com/future/article/20191001-dunbars-number-why-we-can-only-maintain-150-relationships). The specific break downs are:\n",
    "    * Enemies (??): $<-1$ \n",
    "    * People you can recognize (1500): $\\frac{0}{2215} \\le x < \\frac{1500}{2215}$.For most of our calculations, we will considert this range essentially 0.\n",
    "    * Acquaintances (500): $\\frac{1500}{2215} \\le x < \\frac{2000}{2215}$\n",
    "    * Meaningful contacts (150): $\\frac{2000}{2215} \\le x < \\frac{2150}{2215}$\n",
    "    * Friends (50): $\\frac{2150}{2215} \\le x < \\frac{2200}{2215}$\n",
    "    * Good Friends (15): $\\frac{2200}{2215} \\le x < \\frac{2215}{2215}$"
   ]
  },
  {
   "cell_type": "code",
   "execution_count": 1,
   "metadata": {},
   "outputs": [],
   "source": [
    "import numpy as np\n",
    "import math\n",
    "from itertools import permutations, combinations\n"
   ]
  },
  {
   "cell_type": "code",
   "execution_count": 2,
   "metadata": {},
   "outputs": [],
   "source": [
    "def generate_graph(n: int, p:float):\n",
    "    # generate the graph parameters\n",
    "    connections = np.random.uniform(low=0, high=1, size=((n+1)*(n)//2)) > p\n",
    "    weights = np.random.uniform(low=0, high=1, size=((n+1)*(n)//2))\n",
    "\n",
    "    # fill out actual graph\n",
    "    graph = np.zeros((n, n))\n",
    "    ui = (np.triu_indices(n)) # indices of the upper triangular matrix\n",
    "    graph[ui] = weights\n",
    "    graph[ui] = graph[ui] * connections# np.ma.masked_array(graph[ui], mask=connections) \n",
    "\n",
    "    # transpose edges for undirected graph\n",
    "    graph = graph + np.transpose(graph[:, :])\n",
    "\n",
    "    x = np.arange(n)\n",
    "\n",
    "    graph[x, x] = 0 \n",
    "    \n",
    "    return graph"
   ]
  },
  {
   "cell_type": "code",
   "execution_count": null,
   "metadata": {},
   "outputs": [],
   "source": [
    "graph = generate_graph(4000, 1-2215/4000)\n",
    "graph"
   ]
  },
  {
   "cell_type": "code",
   "execution_count": null,
   "metadata": {},
   "outputs": [],
   "source": [
    "# This function generates the social connections (direct and indirect) between some given person and all other people. In the instance where this person and another person\n",
    "# are directly connected, the 'social connection' value will likely be equivalent to their current friendship level. Otherwise, indirect connects can have a social connection\n",
    "# with the given person if they are typically w/in one degree, with a high level of friendship to the intermediary (some friends, and good friends. Occurs about 1% of the time)\n",
    "# AND the intermediary has a high degree of friendship to the original person. A friend of a friend, so to speak.\n",
    "\n",
    "def generate_social_connections(graph, person):\n",
    "    # Build the initial social connections based off the person's direct network\n",
    "    connectedness = graph[person].copy()\n",
    "    \n",
    "    # Note the blacklisted people\n",
    "    black_list = np.where(connectedness < 0)[0]\n",
    "\n",
    "    # Create a filter that removes blacklisted people\n",
    "    mask = np.zeros(connectedness.size, dtype=bool)\n",
    "    mask[black_list] = True\n",
    "    mask[person] = True\n",
    "    mask = np.vstack((mask, mask))\n",
    "    \n",
    "\n",
    "    # Apply the filter to connectedness, giving possible guests\n",
    "    possible = np.ma.array(np.vstack((connectedness, np.array([1] * connectedness.shape[0]))), mask=mask)\n",
    "\n",
    "        #print(\"step 1\", possible) #testing\n",
    "    \n",
    "    # Continue below operations until the social connection value is arbitrarily low (within the lowest catgory)\n",
    "    while (possible[0] >= 1500/2215).sum() > 0:\n",
    "\n",
    "            #print(\"entered loop!\") #testing\n",
    "        \n",
    "        # Choose the next highest social connection\n",
    "        next_guest = np.argmax(possible[0])\n",
    "        guest_distance = possible[1, next_guest]\n",
    "\n",
    "        connectedness[next_guest] = possible[0, next_guest]\n",
    "\n",
    "            #print(\"next guest:\", next_guest, \"distance:\", guest_distance) #testing\n",
    "\n",
    "        # Update filter to include the next added guest since we do not want to update this value.\n",
    "        mask[:, next_guest] = True\n",
    "        possible = np.ma.array(possible, mask=mask)\n",
    "            #print(\"masked off next guest\", possible) #testing\n",
    "\n",
    "        \n",
    "        # Improve social connections if a person is indirectly connected to the person\n",
    "        updater = possible[0] < connectedness[next_guest] * graph[next_guest] / (guest_distance + 1)**(1/1.9)\n",
    "            #print(\"updater\", updater) # testing\n",
    "        possible[1, updater] = guest_distance + 1\n",
    "        possible[0, updater] = (connectedness[next_guest] * graph[next_guest] / (possible[1])**(1/1.9))[updater]\n",
    "\n",
    "            #print(\"updated possible\", possible) #testing\n",
    "    \n",
    "    return connectedness"
   ]
  },
  {
   "cell_type": "code",
   "execution_count": 39,
   "metadata": {},
   "outputs": [
    {
     "name": "stdout",
     "output_type": "stream",
     "text": [
      "Direct social connections vs. Total Social Connections\n",
      "Total edge weight: 1.8871756922138716 1.8871756922138716\n",
      "Number of important edges(non-arbitrary connection): 1 1\n",
      "Total number of edges: 4 4\n",
      "\n",
      "Granular breakdown of direct and total social connections\n",
      "Number of acquaintances+: 1 1\n",
      "Number of meaningful contacts+: 0 0\n",
      "Number of friends+: 0 0\n",
      "Number of good friends+: 0 0\n"
     ]
    }
   ],
   "source": [
    "test_graph = generate_graph(10, 1-2215/4000)\n",
    "connections = generate_social_connections(test_graph, 4)\n",
    "\n",
    "print(\"Direct social connections vs. Total Social Connections\")\n",
    "print(\"Total edge weight:\",sum(test_graph[4]), sum(connections))\n",
    "print(\"Number of important edges(non-arbitrary connection):\", sum(test_graph[4] > 1500/2215), sum(connections > 1500/2215))\n",
    "print(\"Total number of edges:\", sum(test_graph[4] > 0), sum(connections > 0))\n",
    "\n",
    "print(\"\\nGranular breakdown of direct and total social connections\")\n",
    "print(\"Number of acquaintances+:\", sum((test_graph[4]) > 1500/2215),sum(connections > 1500/2215))\n",
    "print(\"Number of meaningful contacts+:\", sum(test_graph[4] > 2000/2215),sum(connections > 2000/2215))\n",
    "print(\"Number of friends+:\", sum(test_graph[4]>2150/2215), sum(connections > 2150/2215))\n",
    "print(\"Number of good friends+:\", sum(test_graph[4]>2200/2215),sum(connections > 2200/2215))"
   ]
  },
  {
   "cell_type": "code",
   "execution_count": null,
   "metadata": {},
   "outputs": [],
   "source": [
    "(1- ((1500/2215) * (2)**(1/1.83))) #Rough percentage of occurence"
   ]
  },
  {
   "cell_type": "code",
   "execution_count": 40,
   "metadata": {},
   "outputs": [
    {
     "data": {
      "text/plain": [
       "array([0.        , 0.63696656, 0.        , 0.10592954, 0.        ,\n",
       "       0.        , 0.        , 0.41189817, 0.73238142, 0.        ])"
      ]
     },
     "execution_count": 40,
     "metadata": {},
     "output_type": "execute_result"
    }
   ],
   "source": [
    "connections"
   ]
  },
  {
   "cell_type": "markdown",
   "metadata": {},
   "source": [
    "### Invitations and Attending"
   ]
  },
  {
   "cell_type": "code",
   "execution_count": 27,
   "metadata": {},
   "outputs": [],
   "source": [
    "def determine_host(num):\n",
    "    # Randomly select a host from the range of people\n",
    "    \n",
    "    return np.random.randint(0, num)\n",
    "    "
   ]
  },
  {
   "cell_type": "code",
   "execution_count": 28,
   "metadata": {},
   "outputs": [],
   "source": [
    "def hosts_friends(graph, client):\n",
    "    return np.random.choice(np.where(graph[client] > 1500/2215)[0])"
   ]
  },
  {
   "cell_type": "code",
   "execution_count": null,
   "metadata": {},
   "outputs": [],
   "source": [
    "def invite_random(social_connections):\n",
    "    social_connections = social_connections * np.random.normal(loc=0.5, scale=0.33, size=len(social_connections))\n",
    "    return np.where(social_connections >= (np.random.uniform(low=0.5, high=0.33*(1.75) + 0.5))*2150/2215)[0]"
   ]
  },
  {
   "cell_type": "code",
   "execution_count": 30,
   "metadata": {},
   "outputs": [],
   "source": [
    "def invite_threshold(graph, host, threshold = 2000/2215):\n",
    "    return np.where(graph[host]>threshold)[0]"
   ]
  },
  {
   "cell_type": "code",
   "execution_count": 49,
   "metadata": {},
   "outputs": [],
   "source": [
    "def attending(host, client, invitees, social_connections, base=0.5):\n",
    "    mask = np.zeros(social_connections.shape[0], dtype=bool)\n",
    "    mask[invitees] = True\n",
    "\n",
    "    p_attend = base + 0.5 * (social_connections - 1500/2215)\n",
    "\n",
    "    mask = mask & (np.random.uniform(0,1, size=len(social_connections)) < p_attend)\n",
    "    mask[host] = True\n",
    "    \n",
    "    if social_connections[client] >= 0:\n",
    "        mask[client] = True\n",
    "\n",
    "    return np.where(mask)[0]"
   ]
  },
  {
   "cell_type": "code",
   "execution_count": null,
   "metadata": {},
   "outputs": [],
   "source": [
    "graph = generate_graph(4000, 1-2215/4000)\n",
    "connections = generate_social_connections(graph, 4)\n",
    "list1 = invite_threshold(graph, 4)\n",
    "list2 = invite_random(connections)\n",
    "\n",
    "\n",
    "attending1 = attending(4, list1, connections)\n",
    "attending2 = attending(4, list2, connections)"
   ]
  },
  {
   "cell_type": "code",
   "execution_count": null,
   "metadata": {},
   "outputs": [],
   "source": [
    "print(len(list1), len(attending1))\n",
    "print(len(list2), len(attending2))"
   ]
  },
  {
   "cell_type": "markdown",
   "metadata": {},
   "source": [
    "### Meeting People at a party"
   ]
  },
  {
   "cell_type": "code",
   "execution_count": 9,
   "metadata": {},
   "outputs": [],
   "source": [
    "#Probability of meeting someone at the party\n",
    "# I assume the probability of meeting someone at a party is proportional to the sum of all edge weights a person has\n",
    "def prob_meeting(graph, person):\n",
    "    total_weights=np.sum(graph) \n",
    "    person_weights = np.sum(graph[person])\n",
    "    \n",
    "    return person_weights/total_weights\n",
    "\n",
    "# As we meet more people, the connection gets stronger and hence the weight increases by a factor j\n",
    "def update_weight(graph, attendees, j=0.5):\n",
    "    update_list = list(combinations(attendees, 2))\n",
    "\n",
    "    for i in update_list:\n",
    "        a,b = i\n",
    "\n",
    "        if abs(graph[a,b]) > 0:\n",
    "            graph[a,b] += j*(1-abs(graph[a,b]))\n",
    "            graph[b,a]=graph[a,b] # This will keep the symmetry of the edge\n",
    "        \n",
    "        else:\n",
    "            graph[a,b] = 1750/2215\n",
    "            graph[b,a] = graph[a,b]\n",
    "    \n",
    "    return graph"
   ]
  },
  {
   "cell_type": "code",
   "execution_count": null,
   "metadata": {},
   "outputs": [],
   "source": [
    "graph = generate_graph(4000, 0.5)\n",
    "list2 = invite_random(graph, 2)\n",
    "# attending2 = attending(list2, graph, 2) \n",
    "attending2 = [0, 1, 2]\n",
    "graph[[0,0, 1], [1,2, 2]]"
   ]
  },
  {
   "cell_type": "code",
   "execution_count": null,
   "metadata": {},
   "outputs": [],
   "source": [
    "graph = update_weight(graph, attending2)\n",
    "graph[[0,0, 1], [1,2, 2]]"
   ]
  },
  {
   "cell_type": "markdown",
   "metadata": {},
   "source": [
    "### Decaying Friendships and Enemies"
   ]
  },
  {
   "cell_type": "code",
   "execution_count": 10,
   "metadata": {},
   "outputs": [],
   "source": [
    "# This function will occur after a party happens\n",
    "# Friendships will decay generally if two people were not in the same party together\n",
    "# A select few random friendships will become enemies\n",
    "\n",
    "def friendship_decay(graph, party: list[int]):\n",
    "    # Get every pairing of people at the party\n",
    "    if len(party) > 1:\n",
    "        party_pairs = list(permutations(party, 2))\n",
    "        x, y = zip(*party_pairs)\n",
    "\n",
    "        # Take note of the current values of the people who went to the party together\n",
    "        sustained = graph[list(x), list(y)].copy()\n",
    "\n",
    "    # Decrease friendship levels\n",
    "    graph[(graph < 1500 /2215) & (graph > 0)] *= 0.95 #0.60 # May need to play with these rates more to make it correct.\n",
    "    graph[(graph < 2000 / 2215) & (graph >= 1500/2215)] *= 0.95 #0.8\n",
    "    graph[(graph < 2150 / 2215) & (graph >= 2000/2215)] *= 0.97 #0.95\n",
    "    graph[(graph < 2200 / 2215) & (graph >= 2150/2215)] *= 0.99\n",
    "    graph[(graph <= 1) & (graph >= 2200/2215)] *= 0.997\n",
    "\n",
    "    # Decrease enemy levels\n",
    "    graph[(graph >= -1) & (graph < -2200/2215)] *= 0.997\n",
    "    graph[(graph >= -2200/2215) & (graph < -2150/2215)] *= 0.99\n",
    "    graph[(graph >= -2150 / 2215) & (graph < -2000/2215)] *= 0.95\n",
    "    graph[(graph >= -2000/2215) & (graph < -1500/2215)] *= 0.8\n",
    "    graph[(graph >= -1500 /2215) & (graph < 0)] *= 0.60\n",
    "\n",
    "    # If the value is under 0.1, set to 0.\n",
    "    graph[(abs(graph) < 0.1)] = 0\n",
    "\n",
    "    # Reinstate the social connections level for people at the party\n",
    "    if len(party) > 1:\n",
    "        graph[list(x), list(y)] = sustained\n",
    "\n",
    "    return graph\n",
    "\n",
    "def sudden_enemies(graph, num):\n",
    "    n = graph.shape[0]\n",
    "    i = 0\n",
    "    while i < num:\n",
    "        nodes = np.random.randint(0, high=n, size=(2))\n",
    "\n",
    "        if nodes[0] == nodes[1]:\n",
    "            i = i-1\n",
    "        else:\n",
    "            graph[nodes[0], nodes[1]] = -1\n",
    "            graph[nodes[1], nodes[0]] = -1\n",
    "        i += 1\n",
    "    return graph"
   ]
  },
  {
   "cell_type": "code",
   "execution_count": null,
   "metadata": {},
   "outputs": [],
   "source": [
    "tester = generate_graph(4, 1-2215/4000)\n",
    "tester = sudden_enemies(tester, 2)\n",
    "\n",
    "tester"
   ]
  },
  {
   "cell_type": "code",
   "execution_count": null,
   "metadata": {},
   "outputs": [],
   "source": [
    "tester = friendship_decay(tester, party=[0,1,2])\n",
    "tester"
   ]
  },
  {
   "cell_type": "code",
   "execution_count": null,
   "metadata": {},
   "outputs": [],
   "source": [
    "tester = np.ones((4,4)) * 0.9\n",
    "tester"
   ]
  },
  {
   "cell_type": "code",
   "execution_count": null,
   "metadata": {},
   "outputs": [],
   "source": [
    "tester = friendship_decay(tester, party=[1,2])\n",
    "tester"
   ]
  },
  {
   "cell_type": "markdown",
   "metadata": {},
   "source": [
    "### The simulation"
   ]
  },
  {
   "cell_type": "code",
   "execution_count": 45,
   "metadata": {},
   "outputs": [
    {
     "name": "stdout",
     "output_type": "stream",
     "text": [
      "Unique hosts:  1\n",
      "1\n",
      "Unique hosts:  2\n",
      "2\n",
      "Unique hosts:  3\n",
      "3\n",
      "Unique hosts:  4\n",
      "4\n",
      "Unique hosts:  5\n",
      "5\n",
      "Unique hosts:  6\n",
      "6\n",
      "Unique hosts:  7\n",
      "7\n",
      "Unique hosts:  8\n",
      "8\n",
      "Unique hosts:  9\n",
      "9\n",
      "Unique hosts:  10\n",
      "10\n",
      "Unique hosts:  11\n",
      "11\n",
      "Unique hosts:  12\n",
      "12\n",
      "Unique hosts:  13\n",
      "13\n",
      "Unique hosts:  14\n",
      "14\n",
      "Unique hosts:  15\n",
      "15\n",
      "Unique hosts:  16\n",
      "16\n",
      "Unique hosts:  17\n",
      "17\n",
      "Unique hosts:  18\n",
      "18\n",
      "Unique hosts:  19\n",
      "19\n",
      "Unique hosts:  20\n",
      "20\n",
      "Unique hosts:  21\n",
      "21\n",
      "Unique hosts:  22\n",
      "WTF -0.07577088338043203\n",
      "21\n",
      "Unique hosts:  23\n",
      "22\n",
      "Unique hosts:  24\n",
      "23\n",
      "Unique hosts:  25\n",
      "24\n",
      "Unique hosts:  26\n",
      "25\n",
      "Unique hosts:  27\n",
      "26\n",
      "Unique hosts:  28\n",
      "27\n",
      "Unique hosts:  29\n",
      "28\n",
      "Unique hosts:  30\n",
      "WTF -0.0050400841383145024\n",
      "28\n",
      "Unique hosts:  31\n",
      "29\n",
      "Unique hosts:  32\n",
      "30\n",
      "Unique hosts:  33\n",
      "31\n",
      "Unique hosts:  34\n",
      "32\n",
      "Unique hosts:  35\n",
      "33\n",
      "Unique hosts:  36\n",
      "34\n",
      "Unique hosts:  37\n",
      "WTF -0.008238960037180169\n",
      "34\n",
      "Unique hosts:  38\n",
      "35\n",
      "Unique hosts:  39\n",
      "36\n",
      "Unique hosts:  40\n",
      "37\n",
      "Unique hosts:  41\n",
      "38\n",
      "Unique hosts:  42\n",
      "39\n",
      "Unique hosts:  43\n",
      "40\n",
      "Unique hosts:  43\n",
      "41\n",
      "Unique hosts:  44\n",
      "WTF -0.005014140491669175\n",
      "41\n",
      "Unique hosts:  45\n",
      "42\n",
      "Unique hosts:  46\n",
      "43\n",
      "Unique hosts:  47\n",
      "44\n",
      "Unique hosts:  48\n",
      "45\n",
      "Unique hosts:  49\n",
      "46\n",
      "Unique hosts:  50\n",
      "47\n",
      "Unique hosts:  51\n",
      "48\n"
     ]
    }
   ],
   "source": [
    "# Create network\n",
    "network = generate_graph(4000, 0.5)#, 1-2215/4000)\n",
    "\n",
    "# Select targets\n",
    "temp = np.where(network == 0)\n",
    "index = np.random.randint(0, temp[0].shape[0])\n",
    "a = temp[0][index]\n",
    "b = temp[1][index]\n",
    "\n",
    "while a == b: # in the case that a and b are the same person,\n",
    "    index = np.random.randint(0, temp[0].shape[0])\n",
    "    a = temp[0][index]\n",
    "    b = temp[1][index]\n",
    "\n",
    "# Hosting parties\n",
    "count = 0\n",
    "time_step = 0\n",
    "all_hosts = set()\n",
    "\n",
    "while network[a, b] == 0: #for i in range(10):\n",
    "    time_step+=1\n",
    "    host = determine_host(network.shape[0])# hosts_friends(graph, a)#\n",
    "    all_hosts.add(host)\n",
    "    print(\"Unique hosts: \", len(all_hosts))\n",
    "    social_connections = generate_social_connections(network, host)\n",
    "    #print(\"socials\", social_connections)\n",
    "\n",
    "    invitees = invite_random(social_connections)\n",
    "\n",
    "    party = attending(host, a, invitees, social_connections, 0.75)\n",
    "    #print(\"party\", party)\n",
    "    if a in party:\n",
    "        count+=1\n",
    "\n",
    "    network = update_weight(network, party)\n",
    "\n",
    "    if time_step % 7 == 0:\n",
    "        network = friendship_decay(network, party)\n",
    "    \n",
    "    #newtork = sudden_enemies(graph, np.random.randint(0, 10))\n",
    "    #print(np.sum(network), \"hi!\")\n",
    "    print(count)\n"
   ]
  },
  {
   "cell_type": "code",
   "execution_count": 43,
   "metadata": {},
   "outputs": [],
   "source": [
    "# Create network\n",
    "network0 = generate_graph(4000, 0.5)#, 1-2215/4000)\n",
    "\n",
    "# Select targets\n",
    "temp = np.where(network0 == 0)\n",
    "index = np.random.randint(0, temp[0].shape[0])\n",
    "a = temp[0][index]\n",
    "b = temp[1][index]\n",
    "\n",
    "while a == b: # in the case that a and b are the same person,\n",
    "    index = np.random.randint(0, temp[0].shape[0])\n",
    "    a = temp[0][index]\n",
    "    b = temp[1][index]"
   ]
  },
  {
   "cell_type": "code",
   "execution_count": 53,
   "metadata": {},
   "outputs": [
    {
     "name": "stdout",
     "output_type": "stream",
     "text": [
      "Progress: 0 of 9\n",
      "Progress: 1 of 9\n",
      "Progress: 2 of 9\n",
      "Progress: 3 of 9\n",
      "Progress: 4 of 9\n",
      "Progress: 5 of 9\n",
      "Progress: 6 of 9\n",
      "Progress: 7 of 9\n",
      "Progress: 8 of 9\n",
      "Progress: 9 of 9\n",
      "Progress: 10 of 9\n",
      "Progress: 11 of 9\n",
      "Progress: 12 of 9\n",
      "Progress: 13 of 9\n",
      "Progress: 14 of 9\n",
      "Progress: 15 of 9\n",
      "Progress: 16 of 9\n",
      "Progress: 17 of 9\n",
      "Progress: 18 of 9\n",
      "Progress: 19 of 9\n",
      "Progress: 20 of 9\n",
      "Progress: 21 of 9\n",
      "Progress: 22 of 9\n",
      "Progress: 23 of 9\n",
      "Progress: 24 of 9\n",
      "Progress: 25 of 9\n",
      "Progress: 26 of 9\n",
      "Progress: 27 of 9\n",
      "Progress: 28 of 9\n",
      "Progress: 29 of 9\n",
      "Progress: 30 of 9\n",
      "Progress: 31 of 9\n",
      "Progress: 32 of 9\n",
      "Progress: 33 of 9\n",
      "Progress: 34 of 9\n",
      "Progress: 35 of 9\n",
      "Progress: 36 of 9\n",
      "Progress: 37 of 9\n",
      "Progress: 38 of 9\n",
      "Progress: 39 of 9\n"
     ]
    }
   ],
   "source": [
    "\n",
    "data = np.zeros(40)\n",
    "for i in range(40):\n",
    "    network = network0.copy()\n",
    "    count = 0\n",
    "    time_step = 0\n",
    "\n",
    "    while network[a, b] == 0:\n",
    "        time_step+=1\n",
    "        host = determine_host(network.shape[0])\n",
    "        social_connections = generate_social_connections(network, host)\n",
    "\n",
    "        invitees = invite_random(social_connections.copy())\n",
    "\n",
    "        party = attending(host, a, invitees, social_connections.copy(), 0.75)\n",
    "\n",
    "        if a in party:\n",
    "            count+=1\n",
    "\n",
    "        network = update_weight(network, party)\n",
    "\n",
    "        if time_step % 7 == 0:\n",
    "            network = friendship_decay(network, party)\n",
    "            network = sudden_enemies(network, np.random.randint(0, 5))\n",
    "        if count > 2000:\n",
    "            count = -1\n",
    "            break\n",
    "    data[i] = count\n",
    "    print(\"Progress:\", i, \"of 40\")\n"
   ]
  },
  {
   "cell_type": "code",
   "execution_count": 54,
   "metadata": {},
   "outputs": [
    {
     "data": {
      "text/plain": [
       "array([ 9.000e+00,  2.000e+00,  2.100e+01, -1.000e+00,  1.830e+02,\n",
       "        6.000e+00,  6.160e+02,  5.400e+01, -1.000e+00,  7.000e+00,\n",
       "        3.430e+02,  2.000e+00, -1.000e+00,  4.200e+01,  3.820e+02,\n",
       "        1.051e+03,  3.000e+00,  3.000e+00,  6.800e+01,  6.600e+01,\n",
       "        1.400e+01,  5.700e+01, -1.000e+00,  1.300e+01,  7.200e+02,\n",
       "        2.260e+02,  5.000e+01, -1.000e+00,  1.000e+00, -1.000e+00,\n",
       "        2.000e+00,  5.300e+01,  2.900e+01, -1.000e+00,  3.000e+01,\n",
       "       -1.000e+00,  1.800e+01,  7.000e+00, -1.000e+00,  1.800e+01])"
      ]
     },
     "execution_count": 54,
     "metadata": {},
     "output_type": "execute_result"
    }
   ],
   "source": [
    "data"
   ]
  },
  {
   "cell_type": "code",
   "execution_count": null,
   "metadata": {},
   "outputs": [],
   "source": []
  }
 ],
 "metadata": {
  "kernelspec": {
   "display_name": "Python 3",
   "language": "python",
   "name": "python3"
  },
  "language_info": {
   "codemirror_mode": {
    "name": "ipython",
    "version": 3
   },
   "file_extension": ".py",
   "mimetype": "text/x-python",
   "name": "python",
   "nbconvert_exporter": "python",
   "pygments_lexer": "ipython3",
   "version": "3.11.8"
  }
 },
 "nbformat": 4,
 "nbformat_minor": 2
}
