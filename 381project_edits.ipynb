{
 "cells": [
  {
   "cell_type": "markdown",
   "metadata": {},
   "source": [
    "### Social Network Graph\n",
    "The first part of this project is modeling the social network over which we will simulate different events, namely parties, decay of relationships, falling outs, and meeting people.\n",
    "\n",
    "We determined that the components of the graph are\n",
    "* People: Each person is represented by a node\n",
    "* Frendship / connection: Two connected people have an edge between them. The frequency of there being a connected is modeled off of Dunbar's number [(source)](https://www.bbc.com/future/article/20191001-dunbars-number-why-we-can-only-maintain-150-relationships).\n",
    "* Friendship level: The friendship level of these two people are represented as the weight of the edge. The specific friendship level is chosen using Dunbar's number [(source)](https://www.bbc.com/future/article/20191001-dunbars-number-why-we-can-only-maintain-150-relationships). The specific break downs are:\n",
    "    * Enemies (??): $<-1$ \n",
    "    * People you can recognize (1500): $\\frac{0}{2215} \\le x < \\frac{1500}{2215}$.For most of our calculations, we will considert this range essentially 0.\n",
    "    * Acquaintances (500): $\\frac{1500}{2215} \\le x < \\frac{2000}{2215}$\n",
    "    * Meaningful contacts (150): $\\frac{2000}{2215} \\le x < \\frac{2150}{2215}$\n",
    "    * Friends (50): $\\frac{2150}{2215} \\le x < \\frac{2200}{2215}$\n",
    "    * Good Friends (15): $\\frac{2200}{2215} \\le x < \\frac{2215}{2215}$"
   ]
  },
  {
   "cell_type": "code",
   "execution_count": 10,
   "metadata": {},
   "outputs": [],
   "source": [
    "import numpy as np\n",
    "import math\n",
    "from itertools import permutations, combinations"
   ]
  },
  {
   "cell_type": "code",
   "execution_count": 11,
   "metadata": {},
   "outputs": [],
   "source": [
    "def generate_graph(n: int, p:float):\n",
    "    # generate the graph parameters\n",
    "    connections = np.random.uniform(low=0, high=1, size=((n+1)*(n)//2)) > p\n",
    "    weights = np.random.uniform(low=0, high=1, size=((n+1)*(n)//2))\n",
    "\n",
    "    # fill out actual graph\n",
    "    graph = np.zeros((n, n))\n",
    "    ui = (np.triu_indices(n)) # indices of the upper triangular matrix\n",
    "    graph[ui] = weights\n",
    "    graph[ui] = graph[ui] * connections# np.ma.masked_array(graph[ui], mask=connections) \n",
    "\n",
    "    # transpose edges for undirected graph\n",
    "    graph = graph + np.transpose(graph[:, :])\n",
    "\n",
    "    x = np.arange(n)\n",
    "\n",
    "    graph[x, x] = 0 \n",
    "    \n",
    "    return graph"
   ]
  },
  {
   "cell_type": "code",
   "execution_count": 12,
   "metadata": {},
   "outputs": [
    {
     "data": {
      "text/plain": [
       "array([[0.        , 0.        , 0.90893348, ..., 0.91608441, 0.        ,\n",
       "        0.99920587],\n",
       "       [0.        , 0.        , 0.98808688, ..., 0.        , 0.11167145,\n",
       "        0.66512592],\n",
       "       [0.90893348, 0.98808688, 0.        , ..., 0.        , 0.3679149 ,\n",
       "        0.89721939],\n",
       "       ...,\n",
       "       [0.91608441, 0.        , 0.        , ..., 0.        , 0.49626238,\n",
       "        0.58791338],\n",
       "       [0.        , 0.11167145, 0.3679149 , ..., 0.49626238, 0.        ,\n",
       "        0.0431956 ],\n",
       "       [0.99920587, 0.66512592, 0.89721939, ..., 0.58791338, 0.0431956 ,\n",
       "        0.        ]], shape=(4000, 4000))"
      ]
     },
     "execution_count": 12,
     "metadata": {},
     "output_type": "execute_result"
    }
   ],
   "source": [
    "graph = generate_graph(4000, 1-2215/4000)\n",
    "graph"
   ]
  },
  {
   "cell_type": "code",
   "execution_count": 13,
   "metadata": {},
   "outputs": [],
   "source": [
    "# This function generates the social connections (direct and indirect) between some given person and all other people. In the instance where this person and another person\n",
    "# are directly connected, the 'social connection' value will likely be equivalent to their current friendship level. Otherwise, indirect connects can have a social connection\n",
    "# with the given person if they are typically w/in one degree, with a high level of friendship to the intermediary (some friends, and good friends. Occurs about 1% of the time)\n",
    "# AND the intermediary has a high degree of friendship to the original person. A friend of a friend, so to speak.\n",
    "\n",
    "def generate_social_connections(graph, person):\n",
    "    # Build the initial social connections based off the person's direct network\n",
    "    connectedness = graph[person].copy()\n",
    "    \n",
    "    # Note the blacklisted people\n",
    "    black_list = np.where(connectedness < 0)[0]\n",
    "\n",
    "    # Create a filter that removes blacklisted people\n",
    "    mask = np.zeros(connectedness.size, dtype=bool)\n",
    "    mask[black_list] = True\n",
    "    mask[person] = True\n",
    "    mask = np.vstack((mask, mask))\n",
    "    \n",
    "\n",
    "    # Apply the filter to connectedness, giving possible guests\n",
    "    possible = np.ma.array(np.vstack((connectedness, np.array([1]*connectedness.shape[0]))), mask=mask)\n",
    "\n",
    "        #print(\"step 1\", possible) #testing\n",
    "    \n",
    "    # Continue below operations until the social connection value is arbitrarily low (within the lowest catgory)\n",
    "    while (possible[0] >= 1500/2215).sum() > 0:\n",
    "\n",
    "            #print(\"entered loop!\") #testing\n",
    "        \n",
    "        # Choose the next highest social connection\n",
    "        next_guest = np.argmax(possible[0])\n",
    "        guest_distance = possible[1, next_guest]\n",
    "        connectedness[next_guest] = possible[0, next_guest]\n",
    "\n",
    "            #print(\"next guest:\", next_guest, \"distance:\", guest_distance) #testing\n",
    "\n",
    "        # Update filter to include the next added guest since we do not want to update this value.\n",
    "        mask[:, next_guest] = True\n",
    "        possible = np.ma.array(possible, mask=mask)\n",
    "            #print(\"masked off next guest\", possible) #testing\n",
    "\n",
    "        \n",
    "        # Improve social connections if a person is indirectly connected to the person\n",
    "        updater = possible[0] < connectedness[next_guest] * graph[next_guest] / (guest_distance + 1)**(1/1.83)\n",
    "            #print(\"updater\", updater) # testing\n",
    "        possible[1, updater] = guest_distance + 1\n",
    "        possible[0, updater] = (connectedness[next_guest] * graph[next_guest] / (possible[1])**(1/1.83))[updater]\n",
    "\n",
    "            #print(\"updated possible\", possible) #testing\n",
    "    \n",
    "    return connectedness"
   ]
  },
  {
   "cell_type": "code",
   "execution_count": 14,
   "metadata": {},
   "outputs": [
    {
     "name": "stdout",
     "output_type": "stream",
     "text": [
      "Direct social connections vs. Total Social Connections\n",
      "Total edge weight: 1096.8350203083103 1262.2266063983732\n",
      "Number of important edges(non-arbitrary connection): 712 1037\n",
      "Total number of edges: 2184 2346\n",
      "\n",
      "Granular breakdown of direct and total social connections\n",
      "Number of acquaintances+: 712 1037\n",
      "Number of meaningful contacts+: 235 235\n",
      "Number of friends+: 78 78\n",
      "Number of good friends+: 19 19\n"
     ]
    }
   ],
   "source": [
    "test_graph = generate_graph(4000, 1-2215/4000)\n",
    "connections = generate_social_connections(test_graph, 4)\n",
    "\n",
    "print(\"Direct social connections vs. Total Social Connections\")\n",
    "print(\"Total edge weight:\",sum(test_graph[4]), sum(connections))\n",
    "print(\"Number of important edges(non-arbitrary connection):\", sum(test_graph[4] > 1500/2215), sum(connections > 1500/2215))\n",
    "print(\"Total number of edges:\", sum(test_graph[4] > 0), sum(connections > 0))\n",
    "\n",
    "print(\"\\nGranular breakdown of direct and total social connections\")\n",
    "print(\"Number of acquaintances+:\", sum((test_graph[4]) > 1500/2215),sum(connections > 1500/2215))\n",
    "print(\"Number of meaningful contacts+:\", sum(test_graph[4] > 2000/2215),sum(connections > 2000/2215))\n",
    "print(\"Number of friends+:\", sum(test_graph[4]>2150/2215), sum(connections > 2150/2215))\n",
    "print(\"Number of good friends+:\", sum(test_graph[4]>2200/2215),sum(connections > 2200/2215))"
   ]
  },
  {
   "cell_type": "code",
   "execution_count": 15,
   "metadata": {},
   "outputs": [
    {
     "data": {
      "text/plain": [
       "0.010957864640372073"
      ]
     },
     "execution_count": 15,
     "metadata": {},
     "output_type": "execute_result"
    }
   ],
   "source": [
    "(1- ((1500/2215) * (2)**(1/1.83))) #Rough percentage of occurence"
   ]
  },
  {
   "cell_type": "markdown",
   "metadata": {},
   "source": [
    "### Invitations and Attending"
   ]
  },
  {
   "cell_type": "code",
   "execution_count": 16,
   "metadata": {},
   "outputs": [],
   "source": [
    "def invite_random(graph, host):\n",
    "    connections = generate_social_connections(graph, host)\n",
    "    connections *= np.random.normal(loc=0.5, scale=0.33, size=graph.shape[0])\n",
    "    return np.where(connections >= (np.random.uniform(low=0.33+.5, high=0.66+0.5))*2150/2215)[0]"
   ]
  },
  {
   "cell_type": "code",
   "execution_count": 17,
   "metadata": {},
   "outputs": [],
   "source": [
    "def invite_threshold(graph, host, threshold = 2000/2215):\n",
    "    return np.where(graph[host]>threshold)[0]"
   ]
  },
  {
   "cell_type": "code",
   "execution_count": 18,
   "metadata": {},
   "outputs": [],
   "source": [
    "def attending(invitees, graph, host, base=0.5):\n",
    "    attendees=[]\n",
    "\n",
    "    mask = np.zeros(graph.shape[0], dtype=bool)\n",
    "    mask[invitees] = True\n",
    "\n",
    "    connections = generate_social_connections(graph, host)\n",
    "\n",
    "    p_attend = base + 0.5 * (connections - 1500/2215)\n",
    "\n",
    "    mask = mask & (np.random.uniform(0,1, graph.shape[0]) < p_attend)\n",
    "\n",
    "\n",
    "    return np.where(mask)[0]"
   ]
  },
  {
   "cell_type": "code",
   "execution_count": 19,
   "metadata": {},
   "outputs": [],
   "source": [
    "graph = generate_graph(4000, 1-2215/4000)\n",
    "list1 = invite_threshold(graph, 4)\n",
    "list2 = invite_random(graph, 4)\n",
    "\n",
    "attending1 = attending(list1, graph, 4)\n",
    "attending2 = attending(list2, graph, 4)"
   ]
  },
  {
   "cell_type": "code",
   "execution_count": 20,
   "metadata": {},
   "outputs": [
    {
     "name": "stdout",
     "output_type": "stream",
     "text": [
      "220 136\n",
      "6 2\n"
     ]
    }
   ],
   "source": [
    "print(len(list1), len(attending1))\n",
    "print(len(list2), len(attending2))"
   ]
  },
  {
   "cell_type": "markdown",
   "metadata": {},
   "source": [
    "### Meeting People at a party"
   ]
  },
  {
   "cell_type": "code",
   "execution_count": 21,
   "metadata": {},
   "outputs": [],
   "source": [
    "#Probability of meeting someone at the party\n",
    "# I assume the probability of meeting someone at a party is proportional to the sum of all edge weights a person has\n",
    "def prob_meeting(graph, person):\n",
    "    total_weights=np.sum(graph) \n",
    "    person_weights = np.sum(graph[person])\n",
    "    \n",
    "    return person_weights/total_weights\n",
    "\n",
    "# As we meet more people, the connection gets stronger and hence the weight increases by a factor j\n",
    "def update_weight(graph, attendees, j=0.5):\n",
    "    update_list = list(combinations(attendees, 2))\n",
    "\n",
    "    print(update_list)\n",
    "    for i in update_list:\n",
    "        a,b = i\n",
    "\n",
    "        if abs(graph[a,b]) > 0:\n",
    "            graph[a,b] += j*(1-abs(graph[a,b]))\n",
    "            graph[b,a]=graph[a,b] # This will keep the symmetry of the edge\n",
    "        \n",
    "        else:\n",
    "            graph[a,b] = 1750/2215\n",
    "            graph[b,a] = graph[a,b]\n",
    "    \n",
    "    return graph"
   ]
  },
  {
   "cell_type": "code",
   "execution_count": 36,
   "metadata": {},
   "outputs": [
    {
     "data": {
      "text/plain": [
       "array([0.25033565, 0.88097228, 0.90164448])"
      ]
     },
     "execution_count": 36,
     "metadata": {},
     "output_type": "execute_result"
    }
   ],
   "source": [
    "graph = generate_graph(4000, 0.5)\n",
    "list2 = invite_random(graph, 2)\n",
    "# attending2 = attending(list2, graph, 2) \n",
    "attending2 = [0, 1, 2]\n",
    "graph[[0,0, 1], [1,2, 2]]"
   ]
  },
  {
   "cell_type": "code",
   "execution_count": 49,
   "metadata": {},
   "outputs": [
    {
     "name": "stdout",
     "output_type": "stream",
     "text": [
      "[(0, 1), (0, 2), (1, 2)]\n"
     ]
    },
    {
     "data": {
      "text/plain": [
       "array([0.99990849, 0.99998547, 0.99998799])"
      ]
     },
     "execution_count": 49,
     "metadata": {},
     "output_type": "execute_result"
    }
   ],
   "source": [
    "graph = update_weight(graph, attending2)\n",
    "graph[[0,0, 1], [1,2, 2]]"
   ]
  },
  {
   "cell_type": "markdown",
   "metadata": {},
   "source": [
    "### Decaying Friendships and Enemies"
   ]
  },
  {
   "cell_type": "code",
   "execution_count": 26,
   "metadata": {},
   "outputs": [],
   "source": [
    "# This function will occur after a party happens\n",
    "# Friendships will decay generally if two people were not in the same party together\n",
    "# A select few random friendships will become enemies\n",
    "\n",
    "def friendship_decay(graph, party: list[int]):\n",
    "    # Get every pairing of people at the party\n",
    "    party_pairs = list(permutations(party, 2))\n",
    "    x, y = zip(*party_pairs)\n",
    "\n",
    "    # Take note of the current values of the people who went to the party together\n",
    "    sustained = graph[list(x), list(y)].copy()\n",
    "\n",
    "    # Decrease friendship levels\n",
    "    graph[(graph < 1500 /2215) & (graph > 0)] *= 0.60 # May need to play with these rates more to make it correct.\n",
    "    graph[(graph < 2000 / 2215) & (graph >= 1500/2215)] *= 0.8\n",
    "    graph[(graph < 2150 / 2215) & (graph >= 2000/2215)] *= 0.95\n",
    "    graph[(graph < 2200 / 2215) & (graph >= 2150/2215)] *= 0.99\n",
    "    graph[(graph <= 1) & (graph >= 2200/2215)] *= 0.997\n",
    "\n",
    "    # Decrease enemy levels\n",
    "    graph[(graph >= -1) & (graph < -2200/2215)] *= 0.997\n",
    "    graph[(graph >= -2200/2215) & (graph < -2150/2215)] *= 0.99\n",
    "    graph[(graph >= -2150 / 2215) & (graph < -2000/2215)] *= 0.95\n",
    "    graph[(graph >= -2000/2215) & (graph < -1500/2215)] *= 0.8\n",
    "    graph[(graph >= -1500 /2215) & (graph < 0)] *= 0.60\n",
    "\n",
    "    # If the value is under 0.1, set to 0.\n",
    "    graph[(abs(graph) < 0.1)] = 0\n",
    "\n",
    "    # Reinstate the social connections level for people at the party\n",
    "    graph[list(x), list(y)] = sustained\n",
    "\n",
    "    return graph\n",
    "\n",
    "def sudden_enemies(graph, num):\n",
    "    n = graph.shape[0]\n",
    "    i = 0\n",
    "    while i < num:\n",
    "        nodes = np.random.randint(0, high=n, size=(2))\n",
    "\n",
    "        if nodes[0] == nodes[1]:\n",
    "            i = i-1\n",
    "        else:\n",
    "            graph[nodes[0], nodes[1]] = -1\n",
    "            graph[nodes[1], nodes[0]] = -1\n",
    "        i += 1\n",
    "    return graph"
   ]
  },
  {
   "cell_type": "code",
   "execution_count": 27,
   "metadata": {},
   "outputs": [
    {
     "data": {
      "text/plain": [
       "array([[ 0.        ,  0.        , -1.        ,  0.        ],\n",
       "       [ 0.        ,  0.        , -1.        ,  0.14250954],\n",
       "       [-1.        , -1.        ,  0.        ,  0.54359242],\n",
       "       [ 0.        ,  0.14250954,  0.54359242,  0.        ]])"
      ]
     },
     "execution_count": 27,
     "metadata": {},
     "output_type": "execute_result"
    }
   ],
   "source": [
    "tester = generate_graph(4, 1-2215/4000)\n",
    "tester = sudden_enemies(tester, 2)\n",
    "\n",
    "tester"
   ]
  },
  {
   "cell_type": "code",
   "execution_count": 28,
   "metadata": {},
   "outputs": [
    {
     "data": {
      "text/plain": [
       "array([[ 0.        ,  0.        , -1.        ,  0.        ],\n",
       "       [ 0.        ,  0.        , -1.        ,  0.        ],\n",
       "       [-1.        , -1.        ,  0.        ,  0.32615545],\n",
       "       [ 0.        ,  0.        ,  0.32615545,  0.        ]])"
      ]
     },
     "execution_count": 28,
     "metadata": {},
     "output_type": "execute_result"
    }
   ],
   "source": [
    "tester = friendship_decay(tester, party=[0,1,2])\n",
    "tester"
   ]
  },
  {
   "cell_type": "code",
   "execution_count": 29,
   "metadata": {},
   "outputs": [
    {
     "data": {
      "text/plain": [
       "array([[0.9, 0.9, 0.9, 0.9],\n",
       "       [0.9, 0.9, 0.9, 0.9],\n",
       "       [0.9, 0.9, 0.9, 0.9],\n",
       "       [0.9, 0.9, 0.9, 0.9]])"
      ]
     },
     "execution_count": 29,
     "metadata": {},
     "output_type": "execute_result"
    }
   ],
   "source": [
    "tester = np.ones((4,4)) * 0.9\n",
    "tester"
   ]
  },
  {
   "cell_type": "code",
   "execution_count": 30,
   "metadata": {},
   "outputs": [
    {
     "data": {
      "text/plain": [
       "array([[0.72, 0.72, 0.72, 0.72],\n",
       "       [0.72, 0.72, 0.9 , 0.72],\n",
       "       [0.72, 0.9 , 0.72, 0.72],\n",
       "       [0.72, 0.72, 0.72, 0.72]])"
      ]
     },
     "execution_count": 30,
     "metadata": {},
     "output_type": "execute_result"
    }
   ],
   "source": [
    "tester = friendship_decay(tester, party=[1,2])\n",
    "tester"
   ]
  }
 ],
 "metadata": {
  "kernelspec": {
   "display_name": "Python 3",
   "language": "python",
   "name": "python3"
  },
  "language_info": {
   "codemirror_mode": {
    "name": "ipython",
    "version": 3
   },
   "file_extension": ".py",
   "mimetype": "text/x-python",
   "name": "python",
   "nbconvert_exporter": "python",
   "pygments_lexer": "ipython3",
   "version": "3.11.8"
  }
 },
 "nbformat": 4,
 "nbformat_minor": 2
}
