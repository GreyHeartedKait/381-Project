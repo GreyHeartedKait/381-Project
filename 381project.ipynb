{
 "cells": [
  {
   "cell_type": "markdown",
   "metadata": {},
   "source": [
    "### Social Network Graph\n",
    "The first part of this project is modeling the social network over which we will simulate different events, namely parties, decay of relationships, falling outs, and meeting people.\n",
    "\n",
    "We determined that the components of the graph are\n",
    "* People: Each person is represented by a node\n",
    "* Frendship / connection: Two connected people have an edge between them. The frequency of there being a connected is modeled off of Dunbar's number [(source)](https://www.bbc.com/future/article/20191001-dunbars-number-why-we-can-only-maintain-150-relationships).\n",
    "* Friendship level: The friendship level of these two people are represented as the weight of the edge. The specific friendship level is chosen using Dunbar's number [(source)](https://www.bbc.com/future/article/20191001-dunbars-number-why-we-can-only-maintain-150-relationships). The specific break downs are:\n",
    "    * Enemies (??): -1 \n",
    "    * People you can recognize (1500): $\\frac{0}{2215} \\le x < \\frac{1500}{2215}$.For most of our calculations, we will considert this range essentially 0.\n",
    "    * Acquaintances (500): $\\frac{1500}{2215} \\le x < \\frac{2000}{2215}$\n",
    "    * Meaningful contacts (150): $\\frac{2000}{2215} \\le x < \\frac{2150}{2215}$\n",
    "    * Friends (50): $\\frac{2150}{2215} \\le x < \\frac{2200}{2215}$\n",
    "    * Good Friends (15): $\\frac{2200}{2215} \\le x < \\frac{2215}{2215}$"
   ]
  },
  {
   "cell_type": "code",
   "execution_count": 583,
   "metadata": {},
   "outputs": [],
   "source": [
    "import numpy as np\n",
    "import heapq as pq\n",
    "import math"
   ]
  },
  {
   "cell_type": "code",
   "execution_count": 54,
   "metadata": {},
   "outputs": [],
   "source": [
    "def generate_graph(n: int, p:float):\n",
    "    # generate the graph parameters\n",
    "    connections = np.random.uniform(low=0, high=1, size=((n+1)*(n)//2)) > p\n",
    "    weights = np.random.uniform(low=0, high=1, size=((n+1)*(n)//2))\n",
    "\n",
    "    # fill out actual graph\n",
    "    graph = np.zeros((n, n))\n",
    "    ui = (np.triu_indices(n)) # indices of the upper triangular matrix\n",
    "    graph[ui] = weights\n",
    "    graph[ui] = graph[ui] * connections# np.ma.masked_array(graph[ui], mask=connections) \n",
    "\n",
    "    # transpose edges for undirected graph\n",
    "    graph = graph + np.transpose(graph[:, :])\n",
    "\n",
    "    x = np.arange(n)\n",
    "\n",
    "    graph[x, x] = 0 \n",
    "    \n",
    "    return graph"
   ]
  },
  {
   "cell_type": "code",
   "execution_count": 169,
   "metadata": {},
   "outputs": [
    {
     "data": {
      "text/plain": [
       "array([[0.        , 0.        , 0.47022782, ..., 0.        , 0.06182299,\n",
       "        0.        ],\n",
       "       [0.        , 0.        , 0.        , ..., 0.        , 0.89192369,\n",
       "        0.83592907],\n",
       "       [0.47022782, 0.        , 0.        , ..., 0.        , 0.78355933,\n",
       "        0.21922021],\n",
       "       ...,\n",
       "       [0.        , 0.        , 0.        , ..., 0.        , 0.        ,\n",
       "        0.        ],\n",
       "       [0.06182299, 0.89192369, 0.78355933, ..., 0.        , 0.        ,\n",
       "        0.        ],\n",
       "       [0.        , 0.83592907, 0.21922021, ..., 0.        , 0.        ,\n",
       "        0.        ]], shape=(4000, 4000))"
      ]
     },
     "execution_count": 169,
     "metadata": {},
     "output_type": "execute_result"
    }
   ],
   "source": [
    "graph = generate_graph(4000, 1-2215/4000)\n",
    "graph"
   ]
  },
  {
   "cell_type": "code",
   "execution_count": null,
   "metadata": {},
   "outputs": [],
   "source": [
    "# This function generates the social connections (direct and indirect) between some given person and all other people. In the instance where this person and another person\n",
    "# are directly connected, the 'social connection' value will likely be equivalent to their current friendship level. Otherwise, indirect connects can have a social connection\n",
    "# with the given person if they are typically w/in one degree, with a high level of friendship to the intermediary (some friends, and good friends. Occurs about 1% of the time)\n",
    "# AND the intermediary has a high degree of friendship to the original person. A friend of a friend, so to speak.\n",
    "\n",
    "def generate_social_connections(graph, person):\n",
    "    # Build the initial social connections based off the person's direct network\n",
    "    connectedness = graph[person].copy()\n",
    "    \n",
    "    # Note the blacklisted people\n",
    "    black_list = np.where(connectedness == -1)[0]\n",
    "\n",
    "    # Create a filter that removes blacklisted people\n",
    "    mask = np.zeros(connectedness.size, dtype=bool)\n",
    "    mask[black_list] = True\n",
    "    mask[person] = True\n",
    "    mask = np.vstack((mask, mask))\n",
    "    \n",
    "\n",
    "    # Apply the filter to connectedness, giving possible guests\n",
    "    possible = np.ma.array(np.vstack((connectedness, np.array([1]*connectedness.shape[0]))), mask=mask)\n",
    "\n",
    "        #print(\"step 1\", possible) #testing\n",
    "    \n",
    "    # Continue below operations until the social connection value is arbitrarily low (within the lowest catgory)\n",
    "    while (possible[0] >= 1500/2215).sum() > 0:\n",
    "\n",
    "            #print(\"entered loop!\") #testing\n",
    "        \n",
    "        # Choose the next highest social connection\n",
    "        next_guest = np.argmax(possible[0])\n",
    "        guest_distance = possible[1, next_guest]\n",
    "        connectedness[next_guest] = possible[0, next_guest]\n",
    "\n",
    "            #print(\"next guest:\", next_guest, \"distance:\", guest_distance) #testing\n",
    "\n",
    "        # Update filter to include the next added guest since we do not want to update this value.\n",
    "        mask[:, next_guest] = True\n",
    "        possible = np.ma.array(possible, mask=mask)\n",
    "            #print(\"masked off next guest\", possible) #testing\n",
    "\n",
    "        \n",
    "        # Improve social connections if a person is indirectly connected to the person\n",
    "        updater = possible[0] < connectedness[next_guest] * graph[next_guest] / (guest_distance + 1)**(1/1.83)\n",
    "            #print(\"updater\", updater) # testing\n",
    "        possible[1, updater] = guest_distance + 1\n",
    "        possible[0, updater] = (connectedness[next_guest] * graph[next_guest] / (possible[1])**(1/1.83))[updater]\n",
    "\n",
    "            #print(\"updated possible\", possible) #testing\n",
    "    \n",
    "    return connectedness"
   ]
  },
  {
   "cell_type": "code",
   "execution_count": 566,
   "metadata": {},
   "outputs": [
    {
     "name": "stdout",
     "output_type": "stream",
     "text": [
      "Direct social connections vs. Total Social Connections\n",
      "Total edge weight: 1094.3167086948886 1243.2467921840896\n",
      "Number of important edges(non-arbitrary connection): 719 1009\n",
      "Total number of edges: 2206 2354\n",
      "\n",
      "Granular breakdown of direct and total social connections\n",
      "Number of acquaintances+: 719 1009\n",
      "Number of meaningful contacts+: 210 210\n",
      "Number of friends+: 67 67\n",
      "Number of good friends+: 17 17\n"
     ]
    }
   ],
   "source": [
    "test_graph = generate_graph(4000, 1-2215/4000)\n",
    "connections = generate_social_connections(test_graph, 4)\n",
    "\n",
    "print(\"Direct social connections vs. Total Social Connections\")\n",
    "print(\"Total edge weight:\",sum(test_graph[4]), sum(connections))\n",
    "print(\"Number of important edges(non-arbitrary connection):\", sum(test_graph[4] > 1500/2215), sum(connections > 1500/2215))\n",
    "print(\"Total number of edges:\", sum(test_graph[4] > 0), sum(connections > 0))\n",
    "\n",
    "print(\"\\nGranular breakdown of direct and total social connections\")\n",
    "print(\"Number of acquaintances+:\", sum((test_graph[4]) > 1500/2215),sum(connections > 1500/2215))\n",
    "print(\"Number of meaningful contacts+:\", sum(test_graph[4] > 2000/2215),sum(connections > 2000/2215))\n",
    "print(\"Number of friends+:\", sum(test_graph[4]>2150/2215), sum(connections > 2150/2215))\n",
    "print(\"Number of good friends+:\", sum(test_graph[4]>2200/2215),sum(connections > 2200/2215))"
   ]
  },
  {
   "cell_type": "code",
   "execution_count": 586,
   "metadata": {},
   "outputs": [
    {
     "data": {
      "text/plain": [
       "0.010957864640372073"
      ]
     },
     "execution_count": 586,
     "metadata": {},
     "output_type": "execute_result"
    }
   ],
   "source": [
    "(1- ((1500/2215) * (2)**(1/1.83))) #Rough percentage of occurence"
   ]
  }
 ],
 "metadata": {
  "kernelspec": {
   "display_name": "Python 3",
   "language": "python",
   "name": "python3"
  },
  "language_info": {
   "codemirror_mode": {
    "name": "ipython",
    "version": 3
   },
   "file_extension": ".py",
   "mimetype": "text/x-python",
   "name": "python",
   "nbconvert_exporter": "python",
   "pygments_lexer": "ipython3",
   "version": "3.11.8"
  }
 },
 "nbformat": 4,
 "nbformat_minor": 2
}
