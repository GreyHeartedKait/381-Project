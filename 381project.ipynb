{
 "cells": [
  {
   "cell_type": "markdown",
   "metadata": {},
   "source": [
    "### Social Network Graph\n",
    "The first part of this project is modeling the social network over which we will simulate different events, namely parties, decay of relationships, falling outs, and meeting people.\n",
    "\n",
    "We determined that the components of the graph are\n",
    "* People: Each person is represented by a node\n",
    "* Frendship / connection: Two connected people have an edge between them. The frequency of there being a connected is modeled off of Dunbar's number [(source)](https://www.bbc.com/future/article/20191001-dunbars-number-why-we-can-only-maintain-150-relationships).\n",
    "* Friendship level: The friendship level of these two people are represented as the weight of the edge. The specific friendship level is chosen using Dunbar's number [(source)](https://www.bbc.com/future/article/20191001-dunbars-number-why-we-can-only-maintain-150-relationships). The specific break downs are:\n",
    "    * Enemies (??): -1 \n",
    "    * People you can recognize (1500): $\\frac{0}{2215} \\le x < \\frac{1500}{2215}$.For most of our calculations, we will considert this range essentially 0.\n",
    "    * Acquaintances (500): $\\frac{1500}{2215} \\le x < \\frac{2000}{2215}$\n",
    "    * Meaningful contacts (150): $\\frac{2000}{2215} \\le x < \\frac{2150}{2215}$\n",
    "    * Friends (50): $\\frac{2150}{2215} \\le x < \\frac{2200}{2215}$\n",
    "    * Good Friends (15): $\\frac{2200}{2215} \\le x < \\frac{2215}{2215}$"
   ]
  },
  {
   "cell_type": "code",
   "execution_count": 1,
   "metadata": {},
   "outputs": [],
   "source": [
    "import numpy as np\n",
    "import math\n",
    "from itertools import permutations"
   ]
  },
  {
   "cell_type": "code",
   "execution_count": 3,
   "metadata": {},
   "outputs": [],
   "source": [
    "def generate_graph(n: int, p:float):\n",
    "    # generate the graph parameters\n",
    "    connections = np.random.uniform(low=0, high=1, size=((n+1)*(n)//2)) > p\n",
    "    weights = np.random.uniform(low=0, high=1, size=((n+1)*(n)//2))\n",
    "\n",
    "    # fill out actual graph\n",
    "    graph = np.zeros((n, n))\n",
    "    ui = (np.triu_indices(n)) # indices of the upper triangular matrix\n",
    "    graph[ui] = weights\n",
    "    graph[ui] = graph[ui] * connections# np.ma.masked_array(graph[ui], mask=connections) \n",
    "\n",
    "    # transpose edges for undirected graph\n",
    "    graph = graph + np.transpose(graph[:, :])\n",
    "\n",
    "    x = np.arange(n)\n",
    "\n",
    "    graph[x, x] = 0 \n",
    "    \n",
    "    return graph"
   ]
  },
  {
   "cell_type": "code",
   "execution_count": 4,
   "metadata": {},
   "outputs": [
    {
     "data": {
      "text/plain": [
       "array([[0.        , 0.        , 0.        , ..., 0.2095336 , 0.90327021,\n",
       "        0.23087665],\n",
       "       [0.        , 0.        , 0.        , ..., 0.79410067, 0.02675825,\n",
       "        0.        ],\n",
       "       [0.        , 0.        , 0.        , ..., 0.55934046, 0.10162063,\n",
       "        0.        ],\n",
       "       ...,\n",
       "       [0.2095336 , 0.79410067, 0.55934046, ..., 0.        , 0.        ,\n",
       "        0.30761531],\n",
       "       [0.90327021, 0.02675825, 0.10162063, ..., 0.        , 0.        ,\n",
       "        0.63673394],\n",
       "       [0.23087665, 0.        , 0.        , ..., 0.30761531, 0.63673394,\n",
       "        0.        ]])"
      ]
     },
     "execution_count": 4,
     "metadata": {},
     "output_type": "execute_result"
    }
   ],
   "source": [
    "graph = generate_graph(4000, 1-2215/4000)\n",
    "graph"
   ]
  },
  {
   "cell_type": "code",
   "execution_count": 5,
   "metadata": {},
   "outputs": [],
   "source": [
    "# This function generates the social connections (direct and indirect) between some given person and all other people. In the instance where this person and another person\n",
    "# are directly connected, the 'social connection' value will likely be equivalent to their current friendship level. Otherwise, indirect connects can have a social connection\n",
    "# with the given person if they are typically w/in one degree, with a high level of friendship to the intermediary (some friends, and good friends. Occurs about 1% of the time)\n",
    "# AND the intermediary has a high degree of friendship to the original person. A friend of a friend, so to speak.\n",
    "\n",
    "def generate_social_connections(graph, person):\n",
    "    # Build the initial social connections based off the person's direct network\n",
    "    connectedness = graph[person].copy()\n",
    "    \n",
    "    # Note the blacklisted people\n",
    "    black_list = np.where(connectedness < 0)[0]\n",
    "\n",
    "    # Create a filter that removes blacklisted people\n",
    "    mask = np.zeros(connectedness.size, dtype=bool)\n",
    "    mask[black_list] = True\n",
    "    mask[person] = True\n",
    "    mask = np.vstack((mask, mask))\n",
    "    \n",
    "\n",
    "    # Apply the filter to connectedness, giving possible guests\n",
    "    possible = np.ma.array(np.vstack((connectedness, np.array([1]*connectedness.shape[0]))), mask=mask)\n",
    "\n",
    "        #print(\"step 1\", possible) #testing\n",
    "    \n",
    "    # Continue below operations until the social connection value is arbitrarily low (within the lowest catgory)\n",
    "    while (possible[0] >= 1500/2215).sum() > 0:\n",
    "\n",
    "            #print(\"entered loop!\") #testing\n",
    "        \n",
    "        # Choose the next highest social connection\n",
    "        next_guest = np.argmax(possible[0])\n",
    "        guest_distance = possible[1, next_guest]\n",
    "        connectedness[next_guest] = possible[0, next_guest]\n",
    "\n",
    "            #print(\"next guest:\", next_guest, \"distance:\", guest_distance) #testing\n",
    "\n",
    "        # Update filter to include the next added guest since we do not want to update this value.\n",
    "        mask[:, next_guest] = True\n",
    "        possible = np.ma.array(possible, mask=mask)\n",
    "            #print(\"masked off next guest\", possible) #testing\n",
    "\n",
    "        \n",
    "        # Improve social connections if a person is indirectly connected to the person\n",
    "        updater = possible[0] < connectedness[next_guest] * graph[next_guest] / (guest_distance + 1)**(1/1.83)\n",
    "            #print(\"updater\", updater) # testing\n",
    "        possible[1, updater] = guest_distance + 1\n",
    "        possible[0, updater] = (connectedness[next_guest] * graph[next_guest] / (possible[1])**(1/1.83))[updater]\n",
    "\n",
    "            #print(\"updated possible\", possible) #testing\n",
    "    \n",
    "    return connectedness"
   ]
  },
  {
   "cell_type": "code",
   "execution_count": 25,
   "metadata": {},
   "outputs": [],
   "source": [
    "def determine_host(graph):\n",
    "    # Get the number of people in the graph\n",
    "    num_people = graph.shape[0]\n",
    "    # Randomly select a host from the range of people\n",
    "    host = np.random.randint(0, num_people)\n",
    "    return host\n",
    "\n",
    "def determine_invited(graph, host, threshold, blacklist):\n",
    "    # Get the friendship levels of the host\n",
    "    friendship_levels = graph[host]\n",
    "    # Create a mask for invited guests based on the threshold and blacklist\n",
    "    invited_mask = (friendship_levels > threshold) & (~np.isin(np.arange(graph.shape[0]), blacklist))\n",
    "    # Get the list of invited guests\n",
    "    invited_guests = np.where(invited_mask)[0]\n",
    "    return invited_guests"
   ]
  },
  {
   "cell_type": "code",
   "execution_count": null,
   "metadata": {},
   "outputs": [
    {
     "name": "stdout",
     "output_type": "stream",
     "text": [
      "Direct social connections vs. Total Social Connections\n",
      "Total edge weight: 1120.714655214607 1228.1266247903882\n",
      "Number of important edges(non-arbitrary connection): 740 947\n",
      "Total number of edges: 2223 2336\n",
      "\n",
      "Granular breakdown of direct and total social connections\n",
      "Number of acquaintances+: 740 947\n",
      "Number of meaningful contacts+: 228 228\n",
      "Number of friends+: 67 67\n",
      "Number of good friends+: 12 12\n"
     ]
    }
   ],
   "source": [
    "test_graph = generate_graph(4000, 1-2215/4000)\n",
    "connections = generate_social_connections(test_graph, 4)\n",
    "\n",
    "\n",
    "print(\"Direct social connections vs. Total Social Connections\")\n",
    "print(\"Total edge weight:\",sum(test_graph[4]), sum(connections))\n",
    "print(\"Number of important edges(non-arbitrary connection):\", sum(test_graph[4] > 1500/2215), sum(connections > 1500/2215))\n",
    "print(\"Total number of edges:\", sum(test_graph[4] > 0), sum(connections > 0))\n",
    "\n",
    "print(\"\\nGranular breakdown of direct and total social connections\")\n",
    "print(\"Number of acquaintances+:\", sum((test_graph[4]) > 1500/2215),sum(connections > 1500/2215))\n",
    "print(\"Number of meaningful contacts+:\", sum(test_graph[4] > 2000/2215),sum(connections > 2000/2215))\n",
    "print(\"Number of friends+:\", sum(test_graph[4]>2150/2215), sum(connections > 2150/2215))\n",
    "print(\"Number of good friends+:\", sum(test_graph[4]>2200/2215),sum(connections > 2200/2215))\n",
    "\n",
    "\n",
    "host = determine_host(graph)\n",
    "black_list = np.where(test_graph[4].copy() < 0)[0]\n",
    "threshold_input = input(\"Enter the friendship level threshold for invitations (eg 2100/2215): \")\n",
    "threshold = eval(threshold_input)  # Evaluate the input to calculate the threshold\n",
    "\n",
    "invited_guests = determine_invited(graph, host, threshold, black_list)\n",
    "\n",
    "print(f\"Random Host: {host}, Invited Guests: {invited_guests}\")"
   ]
  },
  {
   "cell_type": "code",
   "execution_count": 7,
   "metadata": {},
   "outputs": [
    {
     "data": {
      "text/plain": [
       "0.010957864640372073"
      ]
     },
     "execution_count": 7,
     "metadata": {},
     "output_type": "execute_result"
    }
   ],
   "source": [
    "(1- ((1500/2215) * (2)**(1/1.83))) #Rough percentage of occurence"
   ]
  },
  {
   "cell_type": "markdown",
   "metadata": {},
   "source": [
    "### Decaying Friendships and Enemies"
   ]
  },
  {
   "cell_type": "code",
   "execution_count": 8,
   "metadata": {},
   "outputs": [],
   "source": [
    "# This function will occur after a party happens\n",
    "# Friendships will decay generally if two people were not in the same party together\n",
    "# A select few random friendships will become enemies\n",
    "\n",
    "def friendship_decay(graph, party: list[int]):\n",
    "    # Get every pairing of people at the party\n",
    "    party_pairs = list(permutations(party, 2))\n",
    "    x, y = zip(*party_pairs)\n",
    "\n",
    "    # Take note of the current values of the people who went to the party together\n",
    "    sustained = graph[list(x), list(y)].copy()\n",
    "\n",
    "    # Decrease friendship levels\n",
    "    graph[(graph < 1500 /2215) & (graph > 0)] *= 0.60 # May need to play with these rates more to make it correct.\n",
    "    graph[(graph < 2000 / 2215) & (graph >= 1500/2215)] *= 0.8\n",
    "    graph[(graph < 2150 / 2215) & (graph >= 2000/2215)] *= 0.95\n",
    "    graph[(graph < 2200 / 2215) & (graph >= 2150/2215)] *= 0.99\n",
    "    graph[(graph <= 1) & (graph >= 2200/2215)] *= 0.997\n",
    "\n",
    "    # Decrease enemy levels\n",
    "    graph[(graph >= -1) & (graph < -2200/2215)] *= 0.997\n",
    "    graph[(graph >= -2200/2215) & (graph < -2150/2215)] *= 0.99\n",
    "    graph[(graph >= -2150 / 2215) & (graph < -2000/2215)] *= 0.95\n",
    "    graph[(graph >= -2000/2215) & (graph < -1500/2215)] *= 0.8\n",
    "    graph[(graph >= -1500 /2215) & (graph < 0)] *= 0.60\n",
    "\n",
    "    # If the value is under 0.1, set to 0.\n",
    "    graph[(abs(graph) < 0.1)] = 0\n",
    "\n",
    "    # Reinstate the social connections level for people at the party\n",
    "    graph[list(x), list(y)] = sustained\n",
    "\n",
    "    return graph\n",
    "\n",
    "def sudden_enemies(graph, num):\n",
    "    n = graph.shape[0]\n",
    "    i = 0\n",
    "    while i < num:\n",
    "        nodes = np.random.randint(0, high=n, size=(2))\n",
    "\n",
    "        if nodes[0] == nodes[1]:\n",
    "            i = i-1\n",
    "        else:\n",
    "            graph[nodes[0], nodes[1]] = -1\n",
    "            graph[nodes[1], nodes[0]] = -1\n",
    "        i += 1\n",
    "    return graph"
   ]
  },
  {
   "cell_type": "code",
   "execution_count": 9,
   "metadata": {},
   "outputs": [
    {
     "data": {
      "text/plain": [
       "array([[ 0.        , -1.        ,  0.        ,  0.83015565],\n",
       "       [-1.        ,  0.        ,  0.        ,  0.02100808],\n",
       "       [ 0.        ,  0.        ,  0.        , -1.        ],\n",
       "       [ 0.83015565,  0.02100808, -1.        ,  0.        ]])"
      ]
     },
     "execution_count": 9,
     "metadata": {},
     "output_type": "execute_result"
    }
   ],
   "source": [
    "tester = generate_graph(4, 1-2215/4000)\n",
    "tester = sudden_enemies(tester, 2)\n",
    "\n",
    "tester"
   ]
  },
  {
   "cell_type": "code",
   "execution_count": 10,
   "metadata": {},
   "outputs": [
    {
     "data": {
      "text/plain": [
       "array([[ 0.        , -1.        ,  0.        ,  0.66412452],\n",
       "       [-1.        ,  0.        ,  0.        ,  0.        ],\n",
       "       [ 0.        ,  0.        ,  0.        , -0.997     ],\n",
       "       [ 0.66412452,  0.        , -0.997     ,  0.        ]])"
      ]
     },
     "execution_count": 10,
     "metadata": {},
     "output_type": "execute_result"
    }
   ],
   "source": [
    "tester = friendship_decay(tester, party=[0,1,2])\n",
    "tester"
   ]
  },
  {
   "cell_type": "code",
   "execution_count": 11,
   "metadata": {},
   "outputs": [
    {
     "data": {
      "text/plain": [
       "array([[0.9, 0.9, 0.9, 0.9],\n",
       "       [0.9, 0.9, 0.9, 0.9],\n",
       "       [0.9, 0.9, 0.9, 0.9],\n",
       "       [0.9, 0.9, 0.9, 0.9]])"
      ]
     },
     "execution_count": 11,
     "metadata": {},
     "output_type": "execute_result"
    }
   ],
   "source": [
    "tester = np.ones((4,4)) * 0.9\n",
    "tester"
   ]
  },
  {
   "cell_type": "code",
   "execution_count": 12,
   "metadata": {},
   "outputs": [
    {
     "data": {
      "text/plain": [
       "array([[0.72, 0.72, 0.72, 0.72],\n",
       "       [0.72, 0.72, 0.9 , 0.72],\n",
       "       [0.72, 0.9 , 0.72, 0.72],\n",
       "       [0.72, 0.72, 0.72, 0.72]])"
      ]
     },
     "execution_count": 12,
     "metadata": {},
     "output_type": "execute_result"
    }
   ],
   "source": [
    "tester = friendship_decay(tester, party=[1,2])\n",
    "tester"
   ]
  },
  {
   "cell_type": "code",
   "execution_count": null,
   "metadata": {},
   "outputs": [],
   "source": []
  },
  {
   "cell_type": "code",
   "execution_count": null,
   "metadata": {},
   "outputs": [],
   "source": []
  }
 ],
 "metadata": {
  "kernelspec": {
   "display_name": "Python 3 (ipykernel)",
   "language": "python",
   "name": "python3"
  },
  "language_info": {
   "codemirror_mode": {
    "name": "ipython",
    "version": 3
   },
   "file_extension": ".py",
   "mimetype": "text/x-python",
   "name": "python",
   "nbconvert_exporter": "python",
   "pygments_lexer": "ipython3",
   "version": "3.13.2"
  }
 },
 "nbformat": 4,
 "nbformat_minor": 4
}
